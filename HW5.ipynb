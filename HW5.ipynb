{
 "cells": [
  {
   "cell_type": "code",
   "execution_count": 1,
   "metadata": {},
   "outputs": [
    {
     "name": "stdout",
     "output_type": "stream",
     "text": [
      "{'Bonnie': 89007771111, 'Clyde': 89007772222, 'Huey': 89003330000, 'Dewey': 89003331111, 'Louie': 89003332222}\n"
     ]
    }
   ],
   "source": [
    "#Задание 2\n",
    "\n",
    "#Задаем словарь\n",
    "slovar = {\"Bonnie\": 89007771111, \"Clyde\": 89007772222}\n",
    "#Добавляем элементы первым способом\n",
    "slovar[\"Huey\"] = 89003330000\n",
    "slovar[\"Dewey\"] = 89003331111\n",
    "#И вторым\n",
    "name = \"Louie\"\n",
    "slovar[name] = slovar.get(name, 89003332222)\n",
    "\n",
    "print(slovar)"
   ]
  },
  {
   "cell_type": "code",
   "execution_count": 1,
   "metadata": {},
   "outputs": [
    {
     "name": "stdout",
     "output_type": "stream",
     "text": [
      "6\n",
      "1\n",
      "2\n",
      "2\n",
      "3\n",
      "3\n",
      "3\n"
     ]
    }
   ],
   "source": [
    "#Задание 3\n",
    "\n",
    "n = int(input())\n",
    "k = 1\n",
    "for i in range(1, n + 1):\n",
    "    print(k)\n",
    "    if i == k*(k + 1) // 2:\n",
    "         k += 1"
   ]
  },
  {
   "cell_type": "code",
   "execution_count": null,
   "metadata": {},
   "outputs": [],
   "source": []
  }
 ],
 "metadata": {
  "celltoolbar": "Raw Cell Format",
  "kernelspec": {
   "display_name": "Python 3",
   "language": "python",
   "name": "python3"
  },
  "language_info": {
   "codemirror_mode": {
    "name": "ipython",
    "version": 3
   },
   "file_extension": ".py",
   "mimetype": "text/x-python",
   "name": "python",
   "nbconvert_exporter": "python",
   "pygments_lexer": "ipython3",
   "version": "3.6.4"
  }
 },
 "nbformat": 4,
 "nbformat_minor": 2
}
