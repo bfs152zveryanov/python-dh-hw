{
 "cells": [
  {
   "cell_type": "code",
   "execution_count": 1,
   "metadata": {},
   "outputs": [],
   "source": [
    "## Task №2"
   ]
  },
  {
   "cell_type": "code",
   "execution_count": 2,
   "metadata": {},
   "outputs": [
    {
     "name": "stdout",
     "output_type": "stream",
     "text": [
      "tok\n",
      "tok\n",
      "no\n"
     ]
    }
   ],
   "source": [
    "slovo1 = str(input())\n",
    "slovo2 = str(input())\n",
    "a = slovo1[::-1]\n",
    "if slovo2 == a:\n",
    "  print(\"yes\")\n",
    "else:\n",
    "  print(\"no\")"
   ]
  },
  {
   "cell_type": "code",
   "execution_count": 3,
   "metadata": {},
   "outputs": [],
   "source": [
    "## На этом моменте я вспоминаю, \n",
    "## что нужно представить задание в виде функции,\n",
    "## чтобы было проще приводить примеры и переписываю"
   ]
  },
  {
   "cell_type": "code",
   "execution_count": 4,
   "metadata": {},
   "outputs": [
    {
     "name": "stdout",
     "output_type": "stream",
     "text": [
      "False\n",
      "True\n"
     ]
    }
   ],
   "source": [
    "def vsevverkhdnom(s1, s2):\n",
    "    return s1 == s2[::-1]\n",
    "print(vsevverkhdnom('чечня', 'круто'))\n",
    "print(vsevverkhdnom('привет', 'тевирп'))"
   ]
  },
  {
   "cell_type": "code",
   "execution_count": 5,
   "metadata": {},
   "outputs": [],
   "source": [
    "## Task №1"
   ]
  },
  {
   "cell_type": "code",
   "execution_count": 1,
   "metadata": {},
   "outputs": [
    {
     "name": "stdout",
     "output_type": "stream",
     "text": [
      "Список:  ['аб', 'бр', 'ра', 'ак', 'ка', 'ад', 'да', 'аб', 'бр', 'ра', 'фо', 'ок', 'ку', 'ус', 'по', 'ок', 'ку', 'ус', 'де', 'ес', 'ся', 'ят', 'тк', 'ка', 'за', 'ку', 'ур', 'рс', 'не', 'ем', 'ме', 'ед', 'дл', 'ле', 'ен', 'нн', 'но', 'по', 'оя', 'яв', 'ви', 'ис', 'сь']\n",
      "Словарь:  {'аб': 2, 'бр': 2, 'ра': 2, 'ак': 1, 'ка': 2, 'ад': 1, 'да': 1, 'фо': 1, 'ок': 2, 'ку': 3, 'ус': 2, 'по': 2, 'де': 1, 'ес': 1, 'ся': 1, 'ят': 1, 'тк': 1, 'за': 1, 'ур': 1, 'рс': 1, 'не': 1, 'ем': 1, 'ме': 1, 'ед': 1, 'дл': 1, 'ле': 1, 'ен': 1, 'нн': 1, 'но': 1, 'оя': 1, 'яв': 1, 'ви': 1, 'ис': 1, 'сь': 1}\n",
      "аб 2\n",
      "бр 2\n",
      "ра 2\n",
      "ак 1\n",
      "ка 2\n",
      "ад 1\n",
      "да 1\n",
      "фо 1\n",
      "ок 2\n",
      "ку 3\n",
      "ус 2\n",
      "по 2\n",
      "де 1\n",
      "ес 1\n",
      "ся 1\n",
      "ят 1\n",
      "тк 1\n",
      "за 1\n",
      "ур 1\n",
      "рс 1\n",
      "не 1\n",
      "ем 1\n",
      "ме 1\n",
      "ед 1\n",
      "дл 1\n",
      "ле 1\n",
      "ен 1\n",
      "нн 1\n"
     ]
    }
   ],
   "source": [
    "alphabet = \"абвгдеёжзийклмниклмнопрстуфхцчшщъыьэюяАБВГДЕЁЖЗИЙКЛМНОПРСТУФХЦЧШЩЪЫЬЭЮЯ\"\n",
    "key_phrase = \"абракадабра фокус покус десятка за курс немедленно появись\"\n",
    "spisok = []\n",
    "\n",
    "\n",
    "def bigr(string):\n",
    "    i = 0\n",
    "    while i < len(string):\n",
    "        if string[i] in alphabet and string[i + 1] in alphabet:\n",
    "            spisok.append(string[i] + string[i + 1])\n",
    "        if i < (len(string) - 2):\n",
    "            i += 1\n",
    "        else:\n",
    "            break\n",
    "\n",
    "\n",
    "bigr(key_phrase)\n",
    "print(\"Список: \", spisok)\n",
    "spisok1 = {}\n",
    "for i in spisok:\n",
    "    spisok1[i] = spisok.count(i)\n",
    "print(\"Словарь: \", spisok1)\n",
    "\n",
    "for k, v in spisok1.items():\n",
    "    print(k, v)\n",
    "    if k[0] == k [1]:\n",
    "        break"
   ]
  },
  {
   "cell_type": "code",
   "execution_count": null,
   "metadata": {},
   "outputs": [],
   "source": []
  }
 ],
 "metadata": {
  "kernelspec": {
   "display_name": "Python 3",
   "language": "python",
   "name": "python3"
  },
  "language_info": {
   "codemirror_mode": {
    "name": "ipython",
    "version": 3
   },
   "file_extension": ".py",
   "mimetype": "text/x-python",
   "name": "python",
   "nbconvert_exporter": "python",
   "pygments_lexer": "ipython3",
   "version": "3.6.4"
  }
 },
 "nbformat": 4,
 "nbformat_minor": 2
}
